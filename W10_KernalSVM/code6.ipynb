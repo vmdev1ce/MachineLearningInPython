{
  "nbformat": 4,
  "nbformat_minor": 0,
  "metadata": {
    "colab": {
      "provenance": []
    },
    "kernelspec": {
      "name": "python3",
      "display_name": "Python 3"
    },
    "language_info": {
      "name": "python"
    }
  },
  "cells": [
    {
      "cell_type": "code",
      "source": [
        "import numpy as np\n",
        "import pandas as pd\n",
        "import matplotlib.pyplot as plt\n",
        "from sklearn.datasets import load_breast_cancer\n",
        "from sklearn.model_selection import train_test_split\n",
        "plt.style.use('ggplot')\n",
        "# Breast cancer dataset for classification\n",
        "data = load_breast_cancer()\n",
        "X = data.data\n",
        "y = data.target\n",
        "\n",
        "data.target_names\n",
        "\n",
        "y[y=='malignant'] = 1\n",
        "y[y=='bengin'] = -1"
      ],
      "metadata": {
        "colab": {
          "base_uri": "https://localhost:8080/"
        },
        "id": "tc_ISLMzmnkE",
        "outputId": "f5173f95-f36f-4247-ff61-165eb38fb754"
      },
      "execution_count": 17,
      "outputs": [
        {
          "output_type": "stream",
          "name": "stderr",
          "text": [
            "<ipython-input-17-d1f4809c177b>:14: FutureWarning: elementwise comparison failed; returning scalar instead, but in the future will perform elementwise comparison\n",
            "  y[y=='malignant'] = 1\n",
            "<ipython-input-17-d1f4809c177b>:15: FutureWarning: elementwise comparison failed; returning scalar instead, but in the future will perform elementwise comparison\n",
            "  y[y=='bengin'] = -1\n"
          ]
        }
      ]
    },
    {
      "cell_type": "code",
      "source": [
        "from sklearn.model_selection import train_test_split\n",
        "X_train, X_test, y_train, y_test = train_test_split(X, y, test_size = 0.25, random_state=1)"
      ],
      "metadata": {
        "id": "ZiKtHgwkm1gi"
      },
      "execution_count": 18,
      "outputs": []
    },
    {
      "cell_type": "code",
      "source": [
        "X_train.shape"
      ],
      "metadata": {
        "colab": {
          "base_uri": "https://localhost:8080/"
        },
        "id": "WAVC131Im3K1",
        "outputId": "3ce7bd7c-587c-4ad0-8055-a3e45417c31f"
      },
      "execution_count": 19,
      "outputs": [
        {
          "output_type": "execute_result",
          "data": {
            "text/plain": [
              "(426, 30)"
            ]
          },
          "metadata": {},
          "execution_count": 19
        }
      ]
    },
    {
      "cell_type": "code",
      "source": [
        "from sklearn.metrics import accuracy_score\n",
        "from sklearn.svm import SVC\n",
        "for kernel in ('linear', 'poly', 'sigmoid', 'rbf'):\n",
        "  clf = SVC(kernel=kernel, gamma=1, coef0=1)\n",
        "  clf.fit(X_train, y_train)\n",
        "  y_pre = clf.predict(X_test)\n",
        "  print('Accuracy for SVM with', kernel,  accuracy_score(y_test, y_pre))"
      ],
      "metadata": {
        "colab": {
          "base_uri": "https://localhost:8080/"
        },
        "id": "zbAZ5L6bm4ZM",
        "outputId": "881e0347-5299-4554-e883-b0b03b1d045c"
      },
      "execution_count": null,
      "outputs": [
        {
          "output_type": "stream",
          "name": "stdout",
          "text": [
            "Accuracy for SVM with linear 0.9370629370629371\n"
          ]
        }
      ]
    }
  ]
}