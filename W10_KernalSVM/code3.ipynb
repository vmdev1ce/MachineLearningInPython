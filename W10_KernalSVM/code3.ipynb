{
  "nbformat": 4,
  "nbformat_minor": 0,
  "metadata": {
    "colab": {
      "provenance": []
    },
    "kernelspec": {
      "name": "python3",
      "display_name": "Python 3"
    },
    "language_info": {
      "name": "python"
    }
  },
  "cells": [
    {
      "cell_type": "code",
      "source": [
        "import matplotlib.pyplot as plt\n",
        "from sklearn import svm\n",
        "from matplotlib.backends.backend_pdf import PdfPages\n",
        "\n",
        "import numpy as np\n",
        "import pandas as pd\n",
        "import scipy.optimize as opt    # more on this later\n",
        "\n",
        "data = pd.read_csv('/content/drive/MyDrive/Colab Notebooks/ML - MAT3533/data/ex2data2.txt', header = None)\n",
        "X = data.iloc[:,:-1]\n",
        "Y = data.iloc[:,2]\n",
        "\n",
        "# visualizing data\n",
        "mask = Y == 1\n",
        "passed = plt.scatter(X[mask][0], X[mask][1])\n",
        "failed = plt.scatter(X[~mask][0], X[~mask][1])\n",
        "plt.xlabel('Microchip Test1')\n",
        "plt.ylabel('Microchip Test2')\n",
        "plt.legend((passed, failed), ('Passed', 'Failed'))\n",
        "plt.show()"
      ],
      "metadata": {
        "id": "qAESRGsUld9A"
      },
      "execution_count": null,
      "outputs": []
    },
    {
      "cell_type": "code",
      "source": [
        "fignum = 1\n",
        "\n",
        "for kernel in ('linear', 'sigmoid', 'poly', 'rbf'):\n",
        "  clf = svm.SVC(kernel=kernel, gamma=1, coef0 = 1)\n",
        "  clf.fit(X, Y)\n",
        "  fig, ax = plt.subplots()\n",
        "  plt.figure(fignum, figsize=(5,5))\n",
        "  plt.clf()\n",
        "\n",
        "  plt.scatter(clf.support_vectors_[:, 0], clf.support_vectors_[:, 1], s=80,\n",
        "              facecolors='None')\n",
        "\n",
        "  plt.plot(X[mask][0].values, X[mask][1].values, 'bs', markersize = 2)\n",
        "  plt.plot(X[~mask][0].values, X[~mask][1].values, 'ro', markersize = 2)\n",
        "\n",
        "  plt.axis('tight')\n",
        "  x_min = -1.5\n",
        "  x_max = 1.5\n",
        "  y_min = -1.5\n",
        "  y_max = 1.5\n",
        "\n",
        "  XX, YY = np.mgrid[x_min:x_max:200j, y_min:y_max:200j]\n",
        "  Z = clf.decision_function(np.c_[XX.ravel(), YY.ravel()])\n",
        "\n",
        "  # Put the result into a color plot\n",
        "  Z = Z.reshape(XX.shape)\n",
        "  plt.figure(fignum, figsize=(5,5))\n",
        "  CS = plt.contourf(XX, YY, np.sign(Z), 200, cmap='jet', alpha = .2)\n",
        "  plt.contour(XX, YY, Z, colors=['k', 'k', 'k'], linestyles=['--', '-', '--'], levels=[-.5, 0, .5])\n",
        "\n",
        "  plt.title(kernel, fontsize = 15)\n",
        "  plt.xlim(x_min, x_max)\n",
        "  plt.ylim(y_min, y_max)\n",
        "  plt.xticks(())\n",
        "  plt.yticks(())\n",
        "  plt.show()\n"
      ],
      "metadata": {
        "id": "HKMp3tFoleix"
      },
      "execution_count": null,
      "outputs": []
    }
  ]
}