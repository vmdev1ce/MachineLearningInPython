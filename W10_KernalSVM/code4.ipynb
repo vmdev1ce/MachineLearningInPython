{
  "nbformat": 4,
  "nbformat_minor": 0,
  "metadata": {
    "colab": {
      "provenance": []
    },
    "kernelspec": {
      "name": "python3",
      "display_name": "Python 3"
    },
    "language_info": {
      "name": "python"
    }
  },
  "cells": [
    {
      "cell_type": "code",
      "source": [
        "import scipy.io as sio\n",
        "from sklearn.svm import SVC\n",
        "\n",
        "A = sio.loadmat('/content/ARgender.mat')\n",
        "X_train = A['Y_train'].T\n",
        "X_test = A['Y_test'].T\n",
        "\n",
        "N = 700\n",
        "y_train = A['label_train'].reshape(N)\n",
        "y_test = A['label_test'].reshape(N)"
      ],
      "metadata": {
        "id": "EufJnBxdlq8h"
      },
      "execution_count": 11,
      "outputs": []
    },
    {
      "cell_type": "code",
      "source": [
        "from sklearn.metrics import accuracy_score\n",
        "for kernel in ('linear', 'poly', 'sigmoid', 'rbf'):\n",
        "  clf = SVC(kernel=kernel, gamma=1, coef0=1)\n",
        "  clf.fit(X_train, y_train)\n",
        "  y_pre = clf.predict(X_test)\n",
        "  y_pre[y_pre ==-1] = 2\n",
        "  print('Accuracy for SVM with', kernel,  accuracy_score(y_test, y_pre))"
      ],
      "metadata": {
        "colab": {
          "base_uri": "https://localhost:8080/"
        },
        "id": "v16g0uY4lsbU",
        "outputId": "57a50a19-5bc1-4a38-81c5-3bd647e53aad"
      },
      "execution_count": 12,
      "outputs": [
        {
          "output_type": "stream",
          "name": "stdout",
          "text": [
            "Accuracy for SVM with linear 0.9028571428571428\n",
            "Accuracy for SVM with poly 0.9228571428571428\n",
            "Accuracy for SVM with sigmoid 0.8942857142857142\n",
            "Accuracy for SVM with rbf 0.9085714285714286\n"
          ]
        }
      ]
    }
  ]
}