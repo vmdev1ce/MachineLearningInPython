{
 "cells": [
  {
   "cell_type": "code",
   "execution_count": 20,
   "metadata": {},
   "outputs": [],
   "source": [
    "from sklearn import datasets \n",
    "from sklearn.model_selection import train_test_split \n",
    "import numpy as np\n",
    "from sklearn.svm import SVC\n",
    "from sklearn.metrics import accuracy_score, confusion_matrix\n",
    "import pandas as pd\n",
    "  \n",
    "cancer_data = datasets.load_breast_cancer() \n",
    "X_train, X_test, y_train, y_test = train_test_split(cancer_data.data,  \n",
    "     cancer_data.target,  \n",
    "     test_size=0.3,random_state=109)"
   ]
  },
  {
   "cell_type": "code",
   "execution_count": 21,
   "metadata": {},
   "outputs": [
    {
     "name": "stdout",
     "output_type": "stream",
     "text": [
      "                accuracy_score                      confusion_matrix\n",
      "SVM hardMargin        0.614035  [[0, 0, 0], [61, 0, 2], [3, 0, 105]]\n",
      "SVM softMargin        0.608187  [[0, 0, 0], [62, 0, 1], [4, 0, 104]]\n"
     ]
    }
   ],
   "source": [
    "# SVM hardMargin and softMargin using library\n",
    "\n",
    "# SVM soft margin\n",
    "clf_soft = SVC(kernel='linear', C = 100)\n",
    "clf_soft.fit(X_train, y_train)\n",
    "w_soft = clf_soft.coef_\n",
    "b_soft = clf_soft.intercept_\n",
    "y_predSoft = np.sign(np.dot(w_soft, X_test.T)+ b_soft)\n",
    "\n",
    "# SVM hard margin\n",
    "clf_hard = SVC(kernel='linear', C = 10^5)\n",
    "clf_hard.fit(X_train, y_train)\n",
    "w_hard = clf_hard.coef_\n",
    "b_hard = clf_hard.intercept_\n",
    "y_predHard = np.sign(np.dot(w_hard, X_test.T)+ b_hard)\n",
    "\n",
    "# index\n",
    "data = {'accuracy_score': [accuracy_score(y_test.T,y_predHard.T), accuracy_score(y_test.T, y_predSoft.T)],\n",
    "        'confusion_matrix': [ confusion_matrix(y_test.T, y_predHard.T),  confusion_matrix(y_test.T, y_predSoft.T)]}\n",
    "\n",
    "df = pd.DataFrame(data, index=['SVM hardMargin', 'SVM softMargin'])\n",
    "print(df)"
   ]
  }
 ],
 "metadata": {
  "kernelspec": {
   "display_name": "Python 3",
   "language": "python",
   "name": "python3"
  },
  "language_info": {
   "codemirror_mode": {
    "name": "ipython",
    "version": 3
   },
   "file_extension": ".py",
   "mimetype": "text/x-python",
   "name": "python",
   "nbconvert_exporter": "python",
   "pygments_lexer": "ipython3",
   "version": "3.9.6"
  },
  "orig_nbformat": 4
 },
 "nbformat": 4,
 "nbformat_minor": 2
}
