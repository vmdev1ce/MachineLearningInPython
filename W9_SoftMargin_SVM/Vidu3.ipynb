{
 "cells": [
  {
   "cell_type": "code",
   "execution_count": 30,
   "metadata": {},
   "outputs": [
    {
     "name": "stdout",
     "output_type": "stream",
     "text": [
      "(57, 3220)\n",
      "(58, 3220)\n"
     ]
    }
   ],
   "source": [
    "import numpy as np\n",
    "import pandas as pd\n",
    "from matplotlib import  pyplot\n",
    "import matplotlib.pyplot as plt\n",
    "import seaborn as sns\n",
    "from sklearn.model_selection import train_test_split\n",
    "\n",
    "datafame = pd.read_csv('/spambase/spambase.data')\n",
    "data = np.array(datafame)\n",
    "X = data[:, 1:len(data)]\n",
    "y = data[:, -1]\n",
    "\n",
    "X_train, X_test, y_train, y_test = train_test_split(X, y, train_size= 0.7)\n",
    "print(X_train.T.shape)\n"
   ]
  },
  {
   "cell_type": "code",
   "execution_count": 32,
   "metadata": {},
   "outputs": [
    {
     "name": "stdout",
     "output_type": "stream",
     "text": [
      "[[0.000e+00 0.000e+00 0.000e+00 ... 9.000e-02 0.000e+00 0.000e+00]\n",
      " [0.000e+00 1.900e+00 0.000e+00 ... 9.000e-02 4.200e-01 5.000e-02]\n",
      " [0.000e+00 0.000e+00 0.000e+00 ... 0.000e+00 0.000e+00 0.000e+00]\n",
      " ...\n",
      " [1.060e+02 1.178e+03 4.000e+00 ... 2.541e+03 1.060e+02 8.960e+02]\n",
      " [1.000e+00 1.000e+00 0.000e+00 ... 1.000e+00 0.000e+00 0.000e+00]\n",
      " [1.000e+00 1.000e+00 0.000e+00 ... 1.000e+00 0.000e+00 0.000e+00]]\n",
      "[[-3.84550605e-01  9.95416149e-02 -1.03218020e+00  6.71554464e-01\n",
      "  -1.71358690e-01  6.73954152e-01 -1.87471865e-01 -5.44724186e-01\n",
      "   7.42276578e-01  1.67175533e-01  1.52712802e+00  1.03021691e+00\n",
      "   1.60958082e+00 -5.63237684e-01  5.40019578e-01  2.62945326e-01\n",
      "  -1.13900393e-01  2.08090142e+00  1.84591989e+00  1.27917445e+00\n",
      "   8.88586444e-01 -1.17103285e-02  2.12090758e-01  7.75184360e-01\n",
      "  -3.34350555e-02  1.21400406e+00  2.82009564e-01  4.03606248e-01\n",
      "   7.00575995e-01 -5.19590968e-01  5.27237337e-01 -8.21956832e-01\n",
      "  -1.54702128e+00  3.32786899e-01  2.32559128e-01 -3.75915700e-01\n",
      "   5.54953620e-01 -7.09374192e-01  6.60425044e-01  3.95656195e-01\n",
      "   1.13057401e-02 -3.53909621e-01  1.10606157e-01  1.54730946e-01\n",
      "  -8.11671686e-01 -8.38013399e-02  3.11622145e-01  9.37480196e-01\n",
      "   2.37967643e-01  8.01461148e-01 -4.33324091e-01 -1.90987740e-02\n",
      "   4.06062892e-01  9.46862756e+00  1.01577426e+02  5.37976616e+02\n",
      "   5.67800518e-01]] [-0.14716073]\n"
     ]
    }
   ],
   "source": [
    "Z = np.vstack((X_train.T, y_train))\n",
    "\n",
    "C = 200\n",
    "lam = 1./C\n",
    "\n",
    "def cost(w):\n",
    "    u = w.T.dot(Z) # as in (23) \n",
    "    return (np.sum(np.maximum(0, 1 - u)) + .5*lam*np.sum(w*w)) - .5*lam*w[-1]*w[-1] # no bias \n",
    "\n",
    "def grad(w): \n",
    "    u = w.T.dot(Z) # as in (23) \n",
    "    H = np.where(u < 1)[1] \n",
    "    ZS = Z[:, H] \n",
    "    g = (-np.sum(ZS, axis = 1, keepdims = True) + lam*w) \n",
    "    g[-1] -= lam*w[-1] # no weight decay on bias \n",
    "    return g\n",
    "\n",
    "eps = 1e-6 \n",
    "def num_grad(w): \n",
    "    g = np.zeros_like(w) \n",
    "    for i in range(len(w)): \n",
    "        wp = w.copy() \n",
    "        wm = w.copy() \n",
    "        wp[i] += eps \n",
    "        wm[i] -= eps  \n",
    "        g[i] = (cost(wp) - cost(wm))/(2*eps) \n",
    "    return g  \n",
    " \n",
    "w0 = np.random.randn(Z.shape[0], 1)  \n",
    "g1 = grad(w0) \n",
    "g2 = num_grad(w0) \n",
    "diff = np.linalg.norm(g1 - g2) \n",
    "# print('Gradient different: %f' %diff) \n",
    "\n",
    "def grad_descent(w0, eta): \n",
    "    w = w0 \n",
    "    it = 0  \n",
    "    while it < 100000: \n",
    "        it = it + 1 \n",
    "        g = grad(w) \n",
    "        w -= eta*g \n",
    "        # if (it % 10000) == 1: \n",
    "            # print('iter %d' %it + ' cost: %f' %cost(w)) \n",
    "        if np.linalg.norm(g) < 1e-5: \n",
    "            break  \n",
    "    return w  \n",
    "w0 = np.random.randn(Z.shape[0], 1)  \n",
    "w = grad_descent(w0, 0.001) \n",
    "w_hinge = w[:-1].reshape(-1, 1) \n",
    "b_hinge = w[-1] \n",
    "print(w_hinge.T, b_hinge)"
   ]
  },
  {
   "cell_type": "code",
   "execution_count": 41,
   "metadata": {},
   "outputs": [
    {
     "name": "stdout",
     "output_type": "stream",
     "text": [
      "1380.0\n"
     ]
    }
   ],
   "source": [
    "print(np.sign(np.dot(w_hinge.T, X_test.T)+ b_hinge))"
   ]
  }
 ],
 "metadata": {
  "kernelspec": {
   "display_name": "Python 3",
   "language": "python",
   "name": "python3"
  },
  "language_info": {
   "codemirror_mode": {
    "name": "ipython",
    "version": 3
   },
   "file_extension": ".py",
   "mimetype": "text/x-python",
   "name": "python",
   "nbconvert_exporter": "python",
   "pygments_lexer": "ipython3",
   "version": "3.9.6"
  },
  "orig_nbformat": 4
 },
 "nbformat": 4,
 "nbformat_minor": 2
}
