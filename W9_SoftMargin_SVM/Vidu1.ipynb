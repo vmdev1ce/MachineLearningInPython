{
  "cells": [
    {
      "cell_type": "code",
      "execution_count": 76,
      "metadata": {
        "colab": {
          "base_uri": "https://localhost:8080/",
          "height": 451
        },
        "id": "u4sQVf3JQcl0",
        "outputId": "ff2e99df-8996-4c26-a128-5408ceaae69c"
      },
      "outputs": [
        {
          "data": {
            "image/png": "[encoded data removed]",
            "text/plain": [
              "<Figure size 500x500 with 1 Axes>"
            ]
          },
          "metadata": {},
          "output_type": "display_data"
        }
      ],
      "source": [
        "import numpy as np\n",
        "import matplotlib.pyplot as plt\n",
        "from scipy.spatial.distance import cdist\n",
        "import pandas as pd\n",
        "np.random.seed(21)\n",
        "\n",
        "means = [[2, 2], [4, 1]]\n",
        "cov = [[.3, .2], [.2, .3]]\n",
        "N = 10\n",
        "X0 = np.random.multivariate_normal(means[0], cov, N)\n",
        "X1 = np.random.multivariate_normal(means[1], cov, N)\n",
        "X1[-1, :] = [2.7, 2]\n",
        "X = np.concatenate((X0.T, X1.T), axis = 1)\n",
        "y = np.concatenate((np.ones((1, N)), -1*np.ones((1, N))), axis = 1)\n",
        "fig, ax = plt.subplots(figsize=(5, 5))\n",
        "ani = plt.cla()\n",
        "\n",
        "ani = plt.plot(X0.T[0, :], X0.T[1, :], 'b^', markersize = 5, alpha = .8)\n",
        "ani = plt.plot(X1.T[0, :], X1.T[1, :], 'ro', markersize = 5, alpha = .8)\n",
        "ani = plt.axis([-1 , 6, -1, 6])\n",
        "plt.show()"
      ]
    },
    {
      "cell_type": "code",
      "execution_count": 77,
      "metadata": {
        "colab": {
          "base_uri": "https://localhost:8080/"
        },
        "id": "IYE2dc0hP1VE",
        "outputId": "5640a53a-b04f-442f-c683-3fb9364e96d5"
      },
      "outputs": [
        {
          "name": "stdout",
          "output_type": "stream",
          "text": [
            "[[-5.54276837  2.41628387]] 9.132906850859632\n"
          ]
        }
      ],
      "source": [
        "# Cách 1: build model with st function\n",
        "from cvxopt import matrix, solvers\n",
        "C = 100\n",
        "# build K\n",
        "V = np.concatenate((X0.T, -X1.T), axis = 1) \n",
        "K = matrix(V.T.dot(V))\n",
        "p = matrix(-np.ones((2*N, 1)))\n",
        "# build A, b, G, h\n",
        "G = matrix(np.vstack((-np.eye(2*N), np.eye(2*N))))\n",
        "h = matrix(np.vstack((np.zeros((2*N, 1)), C*np.ones((2*N, 1))))) \n",
        "A = matrix(y.reshape((-1, 2*N)))\n",
        "b = matrix(np.zeros((1, 1)))\n",
        "solvers.options['show_progress'] = False\n",
        "sol = solvers.qp(K, p, G, h, A, b)\n",
        "l = np.array(sol['x']) \n",
        "\n",
        "S = np.where(l > 1e-5)[0] # support set \n",
        "S2 = np.where(l < .999*C)[0]\n",
        "M = [val for val in S if val in S2] # intersection of two lists\n",
        "\n",
        "XT = X.T # we need each column to be one data point in this alg \n",
        "VS = V[:, S]\n",
        "lS = l[S]\n",
        "yM = y[0][M]\n",
        "\n",
        "XM = XT[M, :].T\n",
        "w_dual = VS.dot(lS).reshape(-1, 1) \n",
        "b_dual = np.mean(yM.T - w_dual.T.dot(XM)) \n",
        "print(w_dual.T, b_dual)"
      ]
    },
    {
      "cell_type": "code",
      "execution_count": 78,
      "metadata": {
        "colab": {
          "base_uri": "https://localhost:8080/"
        },
        "id": "1KMcMQbzPmJ9",
        "outputId": "ac9bc56e-d913-4e10-a7c5-27577bf0dc42"
      },
      "outputs": [
        {
          "name": "stdout",
          "output_type": "stream",
          "text": [
            "[[-5.55011742  2.41865543]] [9.14708377]\n"
          ]
        }
      ],
      "source": [
        "# Cach 2: Xây dựng phương pháp giải bài toán tối ưu không ràng buộc\n",
        "X0_bar = np.vstack((X0.T, np.ones((1,N))))\n",
        "X1_bar = np.vstack((X1.T, np.ones((1,N))))\n",
        "Z = np.hstack((X0_bar, -X1_bar))\n",
        "print(X0_bar)\n",
        "print(X1_bar)\n",
        "print(Z)\n",
        "\n",
        "C = 200\n",
        "lam = 1./C\n",
        "\n",
        "def cost(w):\n",
        "    u = w.T.dot(Z) # as in (23) \n",
        "    return (np.sum(np.maximum(0, 1 - u)) + .5*lam*np.sum(w*w)) - .5*lam*w[-1]*w[-1] # no bias \n",
        "\n",
        "def grad(w): \n",
        "    u = w.T.dot(Z) # as in (23) \n",
        "    H = np.where(u < 1)[1] \n",
        "    ZS = Z[:, H] \n",
        "    g = (-np.sum(ZS, axis = 1, keepdims = True) + lam*w) \n",
        "    g[-1] -= lam*w[-1] # no weight decay on bias \n",
        "    return g\n",
        "\n",
        "eps = 1e-6 \n",
        "def num_grad(w): \n",
        "    g = np.zeros_like(w) \n",
        "    for i in range(len(w)): \n",
        "        wp = w.copy() \n",
        "        wm = w.copy() \n",
        "        wp[i] += eps \n",
        "        wm[i] -= eps  \n",
        "        g[i] = (cost(wp) - cost(wm))/(2*eps) \n",
        "    return g  \n",
        " \n",
        "w0 = np.random.randn(X0_bar.shape[0], 1)  \n",
        "g1 = grad(w0) \n",
        "g2 = num_grad(w0) \n",
        "diff = np.linalg.norm(g1 - g2) \n",
        "# print('Gradient different: %f' %diff) \n",
        "\n",
        "def grad_descent(w0, eta): \n",
        "    w = w0 \n",
        "    it = 0  \n",
        "    while it < 100000: \n",
        "        it = it + 1 \n",
        "        g = grad(w) \n",
        "        w -= eta*g \n",
        "        # if (it % 10000) == 1: \n",
        "            # print('iter %d' %it + ' cost: %f' %cost(w)) \n",
        "        if np.linalg.norm(g) < 1e-5: \n",
        "            break  \n",
        "    return w  \n",
        "w0 = np.random.randn(X0_bar.shape[0], 1)  \n",
        "w = grad_descent(w0, 0.001) \n",
        "w_hinge = w[:-1].reshape(-1, 1) \n",
        "b_hinge = w[-1] \n",
        "print(w_hinge.T, b_hinge)"
      ]
    },
    {
      "cell_type": "code",
      "execution_count": 79,
      "metadata": {
        "colab": {
          "base_uri": "https://localhost:8080/"
        },
        "id": "UmvAG8ykPncG",
        "outputId": "5b08ddfc-9269-46e2-d793-2760ea7224da"
      },
      "outputs": [
        {
          "name": "stdout",
          "output_type": "stream",
          "text": [
            "[[-5.54202362  2.4156074 ]] [9.13241559]\n",
            "[[ 1.  1.  1.  1.  1.  1.  1.  1.  1.  1. -1. -1. -1. -1. -1. -1. -1. -1.\n",
            "  -1. -1.]]\n"
          ]
        }
      ],
      "source": [
        "# Cách 3: using library\n",
        "from sklearn.svm import SVC\n",
        "\n",
        "y1 = y.reshape((2*N))\n",
        "X1 = X.T\n",
        "clf = SVC(kernel='linear', C = 100)\n",
        "clf.fit(X1, y1)\n",
        "\n",
        "w = clf.coef_\n",
        "b = clf.intercept_\n",
        "print(w, b)\n",
        "\n",
        "print(np.sign(np.dot(w, X)+ b))"
      ]
    },
    {
      "cell_type": "code",
      "execution_count": 80,
      "metadata": {
        "colab": {
          "base_uri": "https://localhost:8080/"
        },
        "id": "SFt-elFNSaBf",
        "outputId": "56c71ca4-40cd-4674-ac5d-b92fa348e2b1"
      },
      "outputs": [
        {
          "name": "stdout",
          "output_type": "stream",
          "text": [
            "        accuracy_score    confusion_matrix\n",
            "model1             1.0  [[10, 0], [0, 10]]\n",
            "model2             1.0  [[10, 0], [0, 10]]\n",
            "model3             1.0  [[10, 0], [0, 10]]\n"
          ]
        }
      ],
      "source": [
        "# index range\n",
        "from sklearn.metrics import accuracy_score, confusion_matrix\n",
        "\n",
        "y_pred1 = np.sign(np.dot(w_dual.T, X)+ b_dual)\n",
        "y_pred2 = np.sign(np.dot(w_hinge.T, X)+ b_hinge)\n",
        "y_pred3 = np.sign(np.dot(w, X)+ b)\n",
        "\n",
        "data = {'accuracy_score': [accuracy_score(y, y_pred1), accuracy_score(y, y_pred2), accuracy_score(y, y_pred3)],\n",
        "        'confusion_matrix': [ confusion_matrix(y.T, y_pred1.T),  confusion_matrix(y.T, y_pred1.T),  confusion_matrix(y.T, y_pred1.T)]}\n",
        "\n",
        "df = pd.DataFrame(data, index=['model1', 'model2', 'model3'])\n",
        "print(df)\n",
        "\n",
        "\n"
      ]
    }
  ],
  "metadata": {
    "colab": {
      "provenance": []
    },
    "kernelspec": {
      "display_name": "Python 3",
      "name": "python3"
    },
    "language_info": {
      "name": "python",
      "version": "3.9.6"
    }
  },
  "nbformat": 4,
  "nbformat_minor": 0
}
